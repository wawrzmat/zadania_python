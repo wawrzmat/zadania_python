{
  "nbformat": 4,
  "nbformat_minor": 0,
  "metadata": {
    "colab": {
      "provenance": [],
      "authorship_tag": "ABX9TyMsTLLUHaPcMyGupJ2KGMAO",
      "include_colab_link": true
    },
    "kernelspec": {
      "name": "python3",
      "display_name": "Python 3"
    },
    "language_info": {
      "name": "python"
    }
  },
  "cells": [
    {
      "cell_type": "markdown",
      "metadata": {
        "id": "view-in-github",
        "colab_type": "text"
      },
      "source": [
        "<a href=\"https://colab.research.google.com/github/wawrzmat/my-first-blog/blob/master/zadania_otwarte.ipynb\" target=\"_parent\"><img src=\"https://colab.research.google.com/assets/colab-badge.svg\" alt=\"Open In Colab\"/></a>"
      ]
    },
    {
      "cell_type": "markdown",
      "source": [
        "Kalkurator BMI"
      ],
      "metadata": {
        "id": "FfuOAo19pUdi"
      }
    },
    {
      "cell_type": "code",
      "execution_count": null,
      "metadata": {
        "colab": {
          "base_uri": "https://localhost:8080/"
        },
        "id": "Dkv5vGkgpTtn",
        "outputId": "73b1fe5c-c12f-412c-8194-4b9c7023f20e"
      },
      "outputs": [
        {
          "output_type": "stream",
          "name": "stdout",
          "text": [
            "Podaj swoja wage w kg 50.4\n",
            "Podaj swoj wzrost w metrach 1.65\n",
            "dane poprawne\n",
            "dane poprawne\n",
            "Twoje BMI wynosi:  18.51239669421488\n",
            "Prawidłowa masa ciała\n"
          ]
        }
      ],
      "source": [
        "import math\n",
        "\n",
        "def validate_number(intstr):\n",
        "  try:\n",
        "    number=float(intstr)\n",
        "    return True\n",
        "  except ValueError:\n",
        "    return False\n",
        "\n",
        "def check_minus_number(intstr):\n",
        "  try:\n",
        "    number=float(intstr)\n",
        "    if number<0:\n",
        "      return False\n",
        "    else:\n",
        "      return True\n",
        "  except ValueError:\n",
        "      return False\n",
        "\n",
        "\n",
        "\n",
        "\n",
        "waga= input('Podaj swoja wage w kg ')\n",
        "wzrost= input('Podaj swoj wzrost w metrach ')\n",
        "\n",
        "if validate_number(waga) or validate_number(wzrost):\n",
        "   print(\"dane poprawne\")\n",
        "else :\n",
        "   print(\"dane bledne\")\n",
        "\n",
        "if check_minus_number(waga) or check_minus_number(wzrost):\n",
        "   print(\"dane poprawne\")\n",
        "else:\n",
        "   print(\"dane bledne\")\n",
        "\n",
        "\n",
        "\n",
        "BMI = float(waga) / math.pow(float(wzrost),2)\n",
        "print(\"Twoje BMI wynosi: \",BMI)\n",
        "\n",
        "\n",
        "if BMI < 18.5:\n",
        "  print(\"Niedowaga\")\n",
        "elif 18.5 <= BMI < 25:\n",
        "  print(\"Prawidłowa masa ciała\")\n",
        "elif 25 <= BMI < 30:\n",
        "  print(\"Nadwaga\")\n",
        "else:\n",
        "  print(\"Otyłość\")\n",
        "\n",
        "\n"
      ]
    },
    {
      "cell_type": "markdown",
      "source": [
        "Zadanie związane z modułem math:"
      ],
      "metadata": {
        "id": "ZDgEk-rT9gbw"
      }
    },
    {
      "cell_type": "code",
      "source": [
        "import math\n",
        "\n",
        "print(\"program do wyliczania pola powierzchni\")\n",
        "figura=float(input(\"wybierz kształt z listy do wyliczania średniej:1-kwadrat, 2-prostokąt, 3-koło, 4-trójkąt\"))\n",
        "\n",
        "def pole_kwadratu():\n",
        "  a=float(input(\"podaj szerokosc\"))\n",
        "  b=float(input(\"podaj wysokosc\"))\n",
        "  pole_powierzchni=a*b\n",
        "  return print(\"pole powierzchni wynosi: \",pole_powierzchni)\n",
        "\n",
        "\n",
        "def pole_kola():\n",
        "  r=float(input(\"podaj promien\"))\n",
        "  pole_powierzchni=math.pi*math.pow(r,2)\n",
        "  return print(\"pole powierzchni wynosi: \",pole_powierzchni)\n",
        "\n",
        "\n",
        "def pole_trojkata():\n",
        "  a=float(input(\"podaj dlugosc boku\"))\n",
        "  h=float(input(\"podaj wysokosc\"))\n",
        "  pole_powierzchni=(a*h)/2\n",
        "  return print(\"pole powierzchni wynosi: \",pole_powierzchni)\n",
        "\n",
        "\n",
        "if figura==1:\n",
        " pole_kwadratu()\n",
        "elif figura==2:\n",
        "  pole_kwadratu()\n",
        "elif figura==3:\n",
        "   pole_kola()\n",
        "elif figura==4:\n",
        "  pole_trojkata()\n",
        "else:\n",
        "  print(\"nie ma takiej figury\")"
      ],
      "metadata": {
        "colab": {
          "base_uri": "https://localhost:8080/"
        },
        "id": "0EkFn0_v9hv1",
        "outputId": "5ccfd2c2-ce7a-41ec-a861-f7b211069ff2"
      },
      "execution_count": null,
      "outputs": [
        {
          "output_type": "stream",
          "name": "stdout",
          "text": [
            "program do wyliczania pola powierzchni\n",
            "wybierz kształt z listy do wyliczania średniej:1-kwadrat, 2-prostokąt, 3-koło, 4-trójkąt4\n",
            "podaj dlugosc boku4\n",
            "podaj wysokosc2\n",
            "pole powierzchni wynosi:  4.0\n"
          ]
        }
      ]
    },
    {
      "cell_type": "markdown",
      "source": [
        "Zadanie związane z wywołaniem funkcji:"
      ],
      "metadata": {
        "id": "y_2BSFIxNIbz"
      }
    },
    {
      "cell_type": "code",
      "source": [
        "\n",
        "def validate_number(dochod):\n",
        "  try:\n",
        "    number=float(dochod)\n",
        "    return True\n",
        "  except ValueError:\n",
        "    return False\n",
        "\n",
        "def oblicz_podatek(dochod):\n",
        "\n",
        "  do=float(dochod)\n",
        "\n",
        "  if do<50000:\n",
        "    podatek=do*0.1\n",
        "  elif do<100000:\n",
        "    podatek=do*0.2\n",
        "  else:\n",
        "    podatek=do*0.3\n",
        "\n",
        "  return podatek\n",
        "\n",
        "\n",
        "dochod=input(\"w celu wyliczenia podatku podaj swoj dochod:\")\n",
        "\n",
        "if validate_number(dochod):\n",
        "   print(\"dane poprawne\")\n",
        "   print(\"twoj podatek wynosi: \", oblicz_podatek(dochod))\n",
        "else :\n",
        "   print(\"dane bledne\")\n"
      ],
      "metadata": {
        "colab": {
          "base_uri": "https://localhost:8080/"
        },
        "id": "M_pPUaiXNNgI",
        "outputId": "689582a3-1c20-4477-b55c-deaca0fab399"
      },
      "execution_count": null,
      "outputs": [
        {
          "output_type": "stream",
          "name": "stdout",
          "text": [
            "w celu wyliczenia podatku podaj swoj dochod:500000\n",
            "dane poprawne\n",
            "twoj podatek wynosi:  150000.0\n"
          ]
        }
      ]
    },
    {
      "cell_type": "markdown",
      "source": [
        "Suma liczb dodatnich"
      ],
      "metadata": {
        "id": "Sd3obJtfPEcj"
      }
    },
    {
      "cell_type": "markdown",
      "source": [],
      "metadata": {
        "id": "EsdHLK7m_OLO"
      }
    },
    {
      "cell_type": "code",
      "source": [
        "def validate_number(intstr):\n",
        "  try:\n",
        "    number=float(intstr)\n",
        "    return True\n",
        "  except ValueError:\n",
        "    return False\n",
        "\n",
        "\n",
        "\n",
        "\n",
        "def sum_licz_dodat(liczby_floar):\n",
        "  suma=0\n",
        "  for element in liczby_floar:\n",
        "      if element>=0:\n",
        "        print(element)\n",
        "        suma=suma+element\n",
        "      else:\n",
        "        suma=suma\n",
        "  return suma\n",
        "\n",
        "\n",
        "liczby=input(\"wprowadz liste liczb całkowitych, oddzielając je przecinkami.\").split(sep=',')\n",
        "liczby_float=[]\n",
        "\n",
        "for element in liczby:\n",
        "  validate_number(element)\n",
        "  e=float(element)\n",
        "  liczby_float.append(e)\n",
        "\n",
        "\n",
        "\n",
        "\n",
        "print(\"suma liczb dodatnich wynosi\",sum_licz_dodat(liczby_float) )\n"
      ],
      "metadata": {
        "colab": {
          "base_uri": "https://localhost:8080/"
        },
        "id": "SQ1DgJhEPGMO",
        "outputId": "705a0256-58e5-4831-8b8d-b6c8f044a56d"
      },
      "execution_count": 5,
      "outputs": [
        {
          "output_type": "stream",
          "name": "stdout",
          "text": [
            "wprowadz liste liczb całkowitych, oddzielając je przecinkami.-1,-4,4,1\n",
            "4.0\n",
            "1.0\n",
            "suma liczb dodatnich wynosi 5.0\n"
          ]
        }
      ]
    }
  ]
}